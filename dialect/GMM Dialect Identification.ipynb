{
 "cells": [
  {
   "cell_type": "markdown",
   "id": "b3549efc-d459-4d4c-84ac-62989c1ea09a",
   "metadata": {},
   "source": [
    "## Introduction\n",
    "\n",
    "Dialect identification is the process of determining the specific dialect or regional variety of a language that a speaker belongs to. In this project, I will be developing a model for identifying American regional dialects, using their acoustic characteristics rather than vocabulary. There are a variety of acoustic cues that distinguish these dialects, such as rhoticity, the cot-caught merger, and so on.\n",
    "\n",
    "If you think about it, a person’s speech could contain characteristics of more than one dialect. So, soft clustering would be an interesting approach for this task. Under this clustering method, a data point could belong to more than one cluster rather than just one.\n",
    "\n",
    "Soft clustering can be done through Gaussian Mixture Models (GMMs). They’re similar to K-means but factor variance, computing the probability of a data point belonging to each cluster.\n",
    "\n",
    "## Dataset\n",
    "\n",
    "TIMIT is a read speech corpus containing speech samples from speakers across the US. Each speaker is conveniently labeled as belonging to one of the following dialect regions:\n",
    "\n",
    "| Region # | Region name              | # Speakers |\n",
    "|----------|--------------------------|------------|\n",
    "| DR1      | New England              | 49         |\n",
    "| DR2      | Northern                 | 102        |\n",
    "| DR3      | North Midland            | 102        |\n",
    "| DR4      | South Midland            | 100        |\n",
    "| DR5      | Southern                 | 98         |\n",
    "| DR6      | New York City            | 46         |\n",
    "| DR7      | Western                  | 100        |\n",
    "| DR8      | Army Brat (moved around) | 33         |\n",
    "\n",
    "There are relatively less New England and New York City speakers, so I will be merging these groups into one region. Additionally, army brat isn’t relevant, so I will be ignoring it.\n",
    "\n",
    "For reference, here are my new regions:\n",
    "\n",
    "| Region # | Region name              | # Speakers |\n",
    "|----------|--------------------------|------------|\n",
    "| DR1      | New England & NYC        | 95         |\n",
    "| DR2      | Northern                 | 102        |\n",
    "| DR3      | North Midland            | 102        |\n",
    "| DR4      | South Midland            | 100        |\n",
    "| DR5      | Southern                 | 98         |\n",
    "| DR6      | Western                  | 100        |\n",
    "\n",
    "The corpus does have some drawbacks for this task, however. Nour-Eddine and Abdelkader (2015) propose a GMM based Arabic Maghreb Dialect identification system, using about 50~ hours of data for each dialect. The total duration of TIMIT is about 5.38 hours, suggesting that this is not enough data to achieve the best results with this type of model. Additionally, it’s somewhat old (1993) and may not generalize well to modern speech.\n",
    "\n",
    "## Approach\n",
    "\n",
    "To extract features from the audio, I will take their mel-frequency cepstral coefficients (MFCCs). MFCCs capture the most salient information of the signal with respect to how we perceive audio (our perception is logarithmic.) The resulting representation is a sequence of feature vectors. The 1st coefficient represents overall energy, the next few represent formants, and so on. Around 12-13 MFCCs are standard.\n",
    "\n",
    "Then, a GMM will be trained for each dialect region's MFCCs. In other words, each GMM during training will only see examples from one dialect. The idea behind this is that a single GMM will represent the distribution of speakers in a dialect region, (ideally) picking up some characteristic acoustic cues in the process.\n",
    "\n",
    "The output of a single GMM represents the likelihood that a speaker’s speech sample belongs to its assigned dialect region. These likelihoods will then be converted into probabilities by normalizing them between 0 and 1 across all models. This then yields the probability of the sample belonging to each dialect region. The final output can be further interpreted as the dialectical composition of the speaker’s speech. For instance, if the output for a sample is 80% DR1 and 20% DR2, this could indicate that the speaker primarily has a New England/NYC accent with some northern influence.\n",
    "\n",
    "## Implementation"
   ]
  },
  {
   "cell_type": "code",
   "execution_count": 1,
   "id": "656d079c-3925-4992-8e18-f61c1d822642",
   "metadata": {},
   "outputs": [],
   "source": [
    "import numpy as np\n",
    "import glob\n",
    "import librosa\n",
    "from scipy.fft import fft\n",
    "from sklearn.mixture import GaussianMixture"
   ]
  },
  {
   "cell_type": "code",
   "execution_count": 2,
   "id": "b6b04491-a98d-436d-82a5-741782161362",
   "metadata": {},
   "outputs": [],
   "source": [
    "n_regions = 6 # Ignore army brat\n",
    "train = []\n",
    "test = []\n",
    "\n",
    "for i in range(1, n_regions + 2):\n",
    "    f1 = glob.glob(f'TIMIT/data/TRAIN/DR{i}/*/*.wav')\n",
    "    f2 = glob.glob(f'TIMIT/data/TEST/DR{i}/*/*.WAV')\n",
    "    if i == 6: # Append region 6 to 1\n",
    "        train[0] += f1\n",
    "        test[0] += f2\n",
    "    else:\n",
    "        train.append(f1)\n",
    "        test.append(f2)"
   ]
  },
  {
   "cell_type": "code",
   "execution_count": 3,
   "id": "8408452b-7cb2-4610-a923-1de656de4a0a",
   "metadata": {},
   "outputs": [],
   "source": [
    "# Get MFCCs from a list of wav files\n",
    "def get_mfccs(wavs):\n",
    "    mfccs = []\n",
    "    for w in wavs:\n",
    "        y, _ = librosa.load(w, sr=16000)\n",
    "        m = librosa.feature.mfcc(y=y, hop_length=160, n_mfcc=13, win_length=400)\n",
    "        mfccs.append(m)\n",
    "    \n",
    "    # Get correct shape\n",
    "    mfccs = np.transpose(np.concatenate(mfccs, axis=1))\n",
    "    return mfccs\n",
    "\n",
    "train_mfccs = []\n",
    "\n",
    "for t in train:\n",
    "    mfccs = get_mfccs(t)\n",
    "    train_mfccs.append(mfccs)"
   ]
  },
  {
   "cell_type": "code",
   "execution_count": 4,
   "id": "7d596209-c44c-4163-a59d-d183c48c2126",
   "metadata": {},
   "outputs": [],
   "source": [
    "# Combine mfccs for each dialect region to get global mean and std\n",
    "combined_mfccs = np.concatenate(train_mfccs)\n",
    "mean = combined_mfccs.mean(axis=0)\n",
    "std = combined_mfccs.std(axis=0)\n",
    "\n",
    "# Normalize mfccs for each dialect region\n",
    "for i in range(n_regions):\n",
    "    train_mfccs[i] = (train_mfccs[i] - mean) / std"
   ]
  },
  {
   "cell_type": "code",
   "execution_count": 21,
   "id": "213d5ef8-599a-46d2-9cf7-9eaff0703e43",
   "metadata": {},
   "outputs": [
    {
     "name": "stdout",
     "output_type": "stream",
     "text": [
      "Trained GMM for region 1\n",
      "Trained GMM for region 2\n",
      "Trained GMM for region 3\n",
      "Trained GMM for region 4\n",
      "Trained GMM for region 5\n",
      "Trained GMM for region 6\n"
     ]
    }
   ],
   "source": [
    "gmm_models = []\n",
    "\n",
    "# Train GMM for each region\n",
    "for i in range(n_regions):\n",
    "    gmm = GaussianMixture(n_components=127)\n",
    "    gmm.fit(train_mfccs[i])\n",
    "    \n",
    "    gmm_models.append(gmm)\n",
    "    print(f\"Trained GMM for region {i+1}\")"
   ]
  },
  {
   "cell_type": "markdown",
   "id": "f5873c26-b414-4441-aa4e-1b0993bb09a8",
   "metadata": {},
   "source": [
    "## Evaluation"
   ]
  },
  {
   "cell_type": "code",
   "execution_count": 8,
   "id": "7cad285e-4c08-402f-be56-dea1e8682b69",
   "metadata": {},
   "outputs": [],
   "source": [
    "# If soft, returns the probabilities of a sample belonging to each dialect region\n",
    "# else, returns dialect region the sample has the highest likelihood of belonging to\n",
    "def predict_dialect(mfcc_sample, soft=True):\n",
    "    likelihoods = np.array([gmm.score(mfcc_sample) for gmm in gmm_models])\n",
    "    if soft:\n",
    "        likelihoods = np.exp(likelihoods)\n",
    "        p = 100 * (likelihoods / np.sum(likelihoods)) # Convert to probabilities\n",
    "        return p\n",
    "    else:\n",
    "        return np.argmax(likelihoods) + 1  # Add 1 to match dialect regions"
   ]
  },
  {
   "cell_type": "code",
   "execution_count": 22,
   "id": "f9255e65-d4f7-4772-9b85-155502ac51ab",
   "metadata": {},
   "outputs": [
    {
     "name": "stdout",
     "output_type": "stream",
     "text": [
      "Region 1: 0.22272727272727272\n",
      "Region 2: 0.2653846153846154\n",
      "Region 3: 0.23076923076923078\n",
      "Region 4: 0.128125\n",
      "Region 5: 0.175\n",
      "Region 6: 0.24782608695652175\n",
      "Total: 0.2070063694267516\n"
     ]
    }
   ],
   "source": [
    "correct = 0\n",
    "total = 0\n",
    "\n",
    "for i in range(n_regions):\n",
    "    \n",
    "    cur_correct = 0\n",
    "    cur_total = len(test[i])\n",
    "    \n",
    "    for utterance in test[i]:\n",
    "        mfcc = get_mfccs([utterance])\n",
    "        mfcc = (mfcc - mean) / std # Normalize\n",
    "        prediction = predict_dialect(mfcc, False)\n",
    "    \n",
    "        cur_correct += 1 if prediction == (i + 1) else 0\n",
    "    \n",
    "    # Region accuracy\n",
    "    print(f'Region {i + 1}: {cur_correct / cur_total}')\n",
    "    correct += cur_correct\n",
    "    total += cur_total\n",
    "\n",
    "# Total accuracy\n",
    "print(f'Total: {correct / total}')"
   ]
  },
  {
   "cell_type": "markdown",
   "id": "f56e3cc6-2cf5-4a2a-b320-86392b9b5c2d",
   "metadata": {},
   "source": [
    "The models aren't performing well. In spite of this, I would like to demonstrate soft clustering using samples from my voice."
   ]
  },
  {
   "cell_type": "code",
   "execution_count": 13,
   "id": "cd5d6984-3cb3-4d78-a17e-bb6981bdb79e",
   "metadata": {},
   "outputs": [],
   "source": [
    "# Reformats model output to enhance readability\n",
    "def format_prediction(pred, n_digits=2):\n",
    "    pred = {\n",
    "        'New England and NYC': round(pred[0], n_digits),\n",
    "        'Northern': round(pred[1], n_digits),\n",
    "        'North Midland': round(pred[2], n_digits),\n",
    "        'South Midland': round(pred[3], n_digits),\n",
    "        'Southern': round(pred[4], n_digits),\n",
    "        'Western': round(pred[5], n_digits)\n",
    "    }\n",
    "    sort_pred = {k: v for k, v in sorted(pred.items(), key=lambda item: item[1], reverse=True)}\n",
    "    \n",
    "    return sort_pred;"
   ]
  },
  {
   "cell_type": "code",
   "execution_count": 23,
   "id": "0359fe3a-c9c0-4381-8b3f-350cb3723783",
   "metadata": {},
   "outputs": [
    {
     "data": {
      "text/plain": [
       "{'New England and NYC': 96.01,\n",
       " 'North Midland': 2.5,\n",
       " 'Northern': 0.63,\n",
       " 'South Midland': 0.58,\n",
       " 'Southern': 0.25,\n",
       " 'Western': 0.03}"
      ]
     },
     "execution_count": 23,
     "metadata": {},
     "output_type": "execute_result"
    }
   ],
   "source": [
    "my_mp3 = glob.glob(f'*1.mp3')\n",
    "my_mfcc = get_mfccs(my_mp3)\n",
    "my_mfcc = (my_mfcc - mean) / std\n",
    "\n",
    "format_prediction(predict_dialect(my_mfcc))"
   ]
  },
  {
   "cell_type": "markdown",
   "id": "c6484c6a-ed90-4b24-bb0e-56074098119e",
   "metadata": {},
   "source": [
    "For context, I'm from the New England and NYC region, but spent most of my life in the north midland region. The results somewhat indicate this (north midland should be much higher), but I'm dismissing this as a coincidence given how poorly the models are performing. "
   ]
  },
  {
   "cell_type": "markdown",
   "id": "846579ac-6b69-4632-a4a1-ac97b9063381",
   "metadata": {},
   "source": [
    "# Model Selection"
   ]
  },
  {
   "cell_type": "markdown",
   "id": "91d3db78-e5d2-4eaa-ab07-c1d10a66e06f",
   "metadata": {},
   "source": [
    "To select the number of components I used for my GMMs, I used the Bayesian information criterion (BIC). A lower score is generally better."
   ]
  },
  {
   "cell_type": "code",
   "execution_count": 19,
   "id": "45030ae1-6b46-495c-855c-b5549fb3115c",
   "metadata": {
    "scrolled": true
   },
   "outputs": [],
   "source": [
    "import matplotlib.pyplot as plt\n",
    "\n",
    "n_components_range = range(115, 128 + 1)\n",
    "bic_scores = []\n",
    "\n",
    "for n_components in n_components_range:\n",
    "    gmm = GaussianMixture(n_components=n_components)\n",
    "    gmm.fit(train_mfccs[1])\n",
    "    bic_scores.append(gmm.bic(train_mfccs[1]))"
   ]
  },
  {
   "cell_type": "code",
   "execution_count": 29,
   "id": "b4c9ca0c-a52f-4636-807b-5318cb0ed3af",
   "metadata": {},
   "outputs": [
    {
     "data": {
      "image/png": "[encoded data removed]",
      "text/plain": [
       "<Figure size 640x480 with 1 Axes>"
      ]
     },
     "metadata": {},
     "output_type": "display_data"
    }
   ],
   "source": [
    "# Plot BIC scores\n",
    "plt.plot(n_components_range, bic_scores, marker='o')\n",
    "plt.xlabel('Number of Components')\n",
    "plt.ylabel('BIC Score')\n",
    "plt.title('BIC Scores for DR1 GMMs')\n",
    "plt.grid(True)\n",
    "plt.show()"
   ]
  }
 ],
 "metadata": {
  "kernelspec": {
   "display_name": "Python 3 (ipykernel)",
   "language": "python",
   "name": "python3"
  },
  "language_info": {
   "codemirror_mode": {
    "name": "ipython",
    "version": 3
   },
   "file_extension": ".py",
   "mimetype": "text/x-python",
   "name": "python",
   "nbconvert_exporter": "python",
   "pygments_lexer": "ipython3",
   "version": "3.10.13"
  }
 },
 "nbformat": 4,
 "nbformat_minor": 5
}
